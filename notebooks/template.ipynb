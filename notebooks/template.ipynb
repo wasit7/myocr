{
 "cells": [
  {
   "cell_type": "code",
   "execution_count": 1,
   "id": "fbf295e8-0b39-48ea-8dbb-91c45ec9c501",
   "metadata": {
    "scrolled": true
   },
   "outputs": [
    {
     "name": "stdout",
     "output_type": "stream",
     "text": [
      "Requirement already satisfied: myocr in /home/wasit/miniconda3/envs/myocr/lib/python3.10/site-packages (0.1.0)\n",
      "Requirement already satisfied: jupyterlab==4.2.5 in /home/wasit/miniconda3/envs/myocr/lib/python3.10/site-packages (from myocr) (4.2.5)\n",
      "Requirement already satisfied: opencv-python==4.10.0.84 in /home/wasit/miniconda3/envs/myocr/lib/python3.10/site-packages (from myocr) (4.10.0.84)\n",
      "Requirement already satisfied: matplotlib==3.9.2 in /home/wasit/miniconda3/envs/myocr/lib/python3.10/site-packages (from myocr) (3.9.2)\n",
      "Requirement already satisfied: pandas==2.2.3 in /home/wasit/miniconda3/envs/myocr/lib/python3.10/site-packages (from myocr) (2.2.3)\n",
      "Requirement already satisfied: tqdm==4.66.5 in /home/wasit/miniconda3/envs/myocr/lib/python3.10/site-packages (from myocr) (4.66.5)\n",
      "Requirement already satisfied: torch==2.4.1+cpu in /home/wasit/miniconda3/envs/myocr/lib/python3.10/site-packages (from myocr) (2.4.1+cpu)\n",
      "Requirement already satisfied: torchvision==0.19.1+cpu in /home/wasit/miniconda3/envs/myocr/lib/python3.10/site-packages (from myocr) (0.19.1+cpu)\n",
      "Requirement already satisfied: async-lru>=1.0.0 in /home/wasit/miniconda3/envs/myocr/lib/python3.10/site-packages (from jupyterlab==4.2.5->myocr) (2.0.4)\n",
      "Requirement already satisfied: httpx>=0.25.0 in /home/wasit/miniconda3/envs/myocr/lib/python3.10/site-packages (from jupyterlab==4.2.5->myocr) (0.27.2)\n",
      "Requirement already satisfied: ipykernel>=6.5.0 in /home/wasit/miniconda3/envs/myocr/lib/python3.10/site-packages (from jupyterlab==4.2.5->myocr) (6.29.5)\n",
      "Requirement already satisfied: jinja2>=3.0.3 in /home/wasit/miniconda3/envs/myocr/lib/python3.10/site-packages (from jupyterlab==4.2.5->myocr) (3.1.4)\n",
      "Requirement already satisfied: jupyter-core in /home/wasit/miniconda3/envs/myocr/lib/python3.10/site-packages (from jupyterlab==4.2.5->myocr) (5.7.2)\n",
      "Requirement already satisfied: jupyter-lsp>=2.0.0 in /home/wasit/miniconda3/envs/myocr/lib/python3.10/site-packages (from jupyterlab==4.2.5->myocr) (2.2.5)\n",
      "Requirement already satisfied: jupyter-server<3,>=2.4.0 in /home/wasit/miniconda3/envs/myocr/lib/python3.10/site-packages (from jupyterlab==4.2.5->myocr) (2.14.2)\n",
      "Requirement already satisfied: jupyterlab-server<3,>=2.27.1 in /home/wasit/miniconda3/envs/myocr/lib/python3.10/site-packages (from jupyterlab==4.2.5->myocr) (2.27.3)\n",
      "Requirement already satisfied: notebook-shim>=0.2 in /home/wasit/miniconda3/envs/myocr/lib/python3.10/site-packages (from jupyterlab==4.2.5->myocr) (0.2.4)\n",
      "Requirement already satisfied: packaging in /home/wasit/miniconda3/envs/myocr/lib/python3.10/site-packages (from jupyterlab==4.2.5->myocr) (24.1)\n",
      "Requirement already satisfied: setuptools>=40.1.0 in /home/wasit/miniconda3/envs/myocr/lib/python3.10/site-packages (from jupyterlab==4.2.5->myocr) (75.1.0)\n",
      "Requirement already satisfied: tomli>=1.2.2 in /home/wasit/miniconda3/envs/myocr/lib/python3.10/site-packages (from jupyterlab==4.2.5->myocr) (2.0.2)\n",
      "Requirement already satisfied: tornado>=6.2.0 in /home/wasit/miniconda3/envs/myocr/lib/python3.10/site-packages (from jupyterlab==4.2.5->myocr) (6.4.1)\n",
      "Requirement already satisfied: traitlets in /home/wasit/miniconda3/envs/myocr/lib/python3.10/site-packages (from jupyterlab==4.2.5->myocr) (5.14.3)\n",
      "Requirement already satisfied: contourpy>=1.0.1 in /home/wasit/miniconda3/envs/myocr/lib/python3.10/site-packages (from matplotlib==3.9.2->myocr) (1.3.0)\n",
      "Requirement already satisfied: cycler>=0.10 in /home/wasit/miniconda3/envs/myocr/lib/python3.10/site-packages (from matplotlib==3.9.2->myocr) (0.12.1)\n",
      "Requirement already satisfied: fonttools>=4.22.0 in /home/wasit/miniconda3/envs/myocr/lib/python3.10/site-packages (from matplotlib==3.9.2->myocr) (4.54.1)\n",
      "Requirement already satisfied: kiwisolver>=1.3.1 in /home/wasit/miniconda3/envs/myocr/lib/python3.10/site-packages (from matplotlib==3.9.2->myocr) (1.4.7)\n",
      "Requirement already satisfied: numpy>=1.23 in /home/wasit/miniconda3/envs/myocr/lib/python3.10/site-packages (from matplotlib==3.9.2->myocr) (2.1.2)\n",
      "Requirement already satisfied: pillow>=8 in /home/wasit/miniconda3/envs/myocr/lib/python3.10/site-packages (from matplotlib==3.9.2->myocr) (10.4.0)\n",
      "Requirement already satisfied: pyparsing>=2.3.1 in /home/wasit/miniconda3/envs/myocr/lib/python3.10/site-packages (from matplotlib==3.9.2->myocr) (3.2.0)\n",
      "Requirement already satisfied: python-dateutil>=2.7 in /home/wasit/miniconda3/envs/myocr/lib/python3.10/site-packages (from matplotlib==3.9.2->myocr) (2.9.0.post0)\n",
      "Requirement already satisfied: pytz>=2020.1 in /home/wasit/miniconda3/envs/myocr/lib/python3.10/site-packages (from pandas==2.2.3->myocr) (2024.2)\n",
      "Requirement already satisfied: tzdata>=2022.7 in /home/wasit/miniconda3/envs/myocr/lib/python3.10/site-packages (from pandas==2.2.3->myocr) (2024.2)\n",
      "Requirement already satisfied: filelock in /home/wasit/miniconda3/envs/myocr/lib/python3.10/site-packages (from torch==2.4.1+cpu->myocr) (3.16.1)\n",
      "Requirement already satisfied: typing-extensions>=4.8.0 in /home/wasit/miniconda3/envs/myocr/lib/python3.10/site-packages (from torch==2.4.1+cpu->myocr) (4.12.2)\n",
      "Requirement already satisfied: sympy in /home/wasit/miniconda3/envs/myocr/lib/python3.10/site-packages (from torch==2.4.1+cpu->myocr) (1.13.3)\n",
      "Requirement already satisfied: networkx in /home/wasit/miniconda3/envs/myocr/lib/python3.10/site-packages (from torch==2.4.1+cpu->myocr) (3.4.1)\n",
      "Requirement already satisfied: fsspec in /home/wasit/miniconda3/envs/myocr/lib/python3.10/site-packages (from torch==2.4.1+cpu->myocr) (2024.9.0)\n",
      "Requirement already satisfied: anyio in /home/wasit/miniconda3/envs/myocr/lib/python3.10/site-packages (from httpx>=0.25.0->jupyterlab==4.2.5->myocr) (4.6.2.post1)\n",
      "Requirement already satisfied: certifi in /home/wasit/miniconda3/envs/myocr/lib/python3.10/site-packages (from httpx>=0.25.0->jupyterlab==4.2.5->myocr) (2024.8.30)\n",
      "Requirement already satisfied: httpcore==1.* in /home/wasit/miniconda3/envs/myocr/lib/python3.10/site-packages (from httpx>=0.25.0->jupyterlab==4.2.5->myocr) (1.0.6)\n",
      "Requirement already satisfied: idna in /home/wasit/miniconda3/envs/myocr/lib/python3.10/site-packages (from httpx>=0.25.0->jupyterlab==4.2.5->myocr) (3.10)\n",
      "Requirement already satisfied: sniffio in /home/wasit/miniconda3/envs/myocr/lib/python3.10/site-packages (from httpx>=0.25.0->jupyterlab==4.2.5->myocr) (1.3.1)\n",
      "Requirement already satisfied: h11<0.15,>=0.13 in /home/wasit/miniconda3/envs/myocr/lib/python3.10/site-packages (from httpcore==1.*->httpx>=0.25.0->jupyterlab==4.2.5->myocr) (0.14.0)\n",
      "Requirement already satisfied: comm>=0.1.1 in /home/wasit/miniconda3/envs/myocr/lib/python3.10/site-packages (from ipykernel>=6.5.0->jupyterlab==4.2.5->myocr) (0.2.2)\n",
      "Requirement already satisfied: debugpy>=1.6.5 in /home/wasit/miniconda3/envs/myocr/lib/python3.10/site-packages (from ipykernel>=6.5.0->jupyterlab==4.2.5->myocr) (1.8.7)\n",
      "Requirement already satisfied: ipython>=7.23.1 in /home/wasit/miniconda3/envs/myocr/lib/python3.10/site-packages (from ipykernel>=6.5.0->jupyterlab==4.2.5->myocr) (8.28.0)\n",
      "Requirement already satisfied: jupyter-client>=6.1.12 in /home/wasit/miniconda3/envs/myocr/lib/python3.10/site-packages (from ipykernel>=6.5.0->jupyterlab==4.2.5->myocr) (8.6.3)\n",
      "Requirement already satisfied: matplotlib-inline>=0.1 in /home/wasit/miniconda3/envs/myocr/lib/python3.10/site-packages (from ipykernel>=6.5.0->jupyterlab==4.2.5->myocr) (0.1.7)\n",
      "Requirement already satisfied: nest-asyncio in /home/wasit/miniconda3/envs/myocr/lib/python3.10/site-packages (from ipykernel>=6.5.0->jupyterlab==4.2.5->myocr) (1.6.0)\n",
      "Requirement already satisfied: psutil in /home/wasit/miniconda3/envs/myocr/lib/python3.10/site-packages (from ipykernel>=6.5.0->jupyterlab==4.2.5->myocr) (6.0.0)\n",
      "Requirement already satisfied: pyzmq>=24 in /home/wasit/miniconda3/envs/myocr/lib/python3.10/site-packages (from ipykernel>=6.5.0->jupyterlab==4.2.5->myocr) (26.2.0)\n",
      "Requirement already satisfied: MarkupSafe>=2.0 in /home/wasit/miniconda3/envs/myocr/lib/python3.10/site-packages (from jinja2>=3.0.3->jupyterlab==4.2.5->myocr) (3.0.1)\n",
      "Requirement already satisfied: platformdirs>=2.5 in /home/wasit/miniconda3/envs/myocr/lib/python3.10/site-packages (from jupyter-core->jupyterlab==4.2.5->myocr) (4.3.6)\n",
      "Requirement already satisfied: argon2-cffi>=21.1 in /home/wasit/miniconda3/envs/myocr/lib/python3.10/site-packages (from jupyter-server<3,>=2.4.0->jupyterlab==4.2.5->myocr) (23.1.0)\n",
      "Requirement already satisfied: jupyter-events>=0.9.0 in /home/wasit/miniconda3/envs/myocr/lib/python3.10/site-packages (from jupyter-server<3,>=2.4.0->jupyterlab==4.2.5->myocr) (0.10.0)\n",
      "Requirement already satisfied: jupyter-server-terminals>=0.4.4 in /home/wasit/miniconda3/envs/myocr/lib/python3.10/site-packages (from jupyter-server<3,>=2.4.0->jupyterlab==4.2.5->myocr) (0.5.3)\n",
      "Requirement already satisfied: nbconvert>=6.4.4 in /home/wasit/miniconda3/envs/myocr/lib/python3.10/site-packages (from jupyter-server<3,>=2.4.0->jupyterlab==4.2.5->myocr) (7.16.4)\n",
      "Requirement already satisfied: nbformat>=5.3.0 in /home/wasit/miniconda3/envs/myocr/lib/python3.10/site-packages (from jupyter-server<3,>=2.4.0->jupyterlab==4.2.5->myocr) (5.10.4)\n",
      "Requirement already satisfied: overrides>=5.0 in /home/wasit/miniconda3/envs/myocr/lib/python3.10/site-packages (from jupyter-server<3,>=2.4.0->jupyterlab==4.2.5->myocr) (7.7.0)\n",
      "Requirement already satisfied: prometheus-client>=0.9 in /home/wasit/miniconda3/envs/myocr/lib/python3.10/site-packages (from jupyter-server<3,>=2.4.0->jupyterlab==4.2.5->myocr) (0.21.0)\n",
      "Requirement already satisfied: send2trash>=1.8.2 in /home/wasit/miniconda3/envs/myocr/lib/python3.10/site-packages (from jupyter-server<3,>=2.4.0->jupyterlab==4.2.5->myocr) (1.8.3)\n",
      "Requirement already satisfied: terminado>=0.8.3 in /home/wasit/miniconda3/envs/myocr/lib/python3.10/site-packages (from jupyter-server<3,>=2.4.0->jupyterlab==4.2.5->myocr) (0.18.1)\n",
      "Requirement already satisfied: websocket-client>=1.7 in /home/wasit/miniconda3/envs/myocr/lib/python3.10/site-packages (from jupyter-server<3,>=2.4.0->jupyterlab==4.2.5->myocr) (1.8.0)\n",
      "Requirement already satisfied: babel>=2.10 in /home/wasit/miniconda3/envs/myocr/lib/python3.10/site-packages (from jupyterlab-server<3,>=2.27.1->jupyterlab==4.2.5->myocr) (2.16.0)\n",
      "Requirement already satisfied: json5>=0.9.0 in /home/wasit/miniconda3/envs/myocr/lib/python3.10/site-packages (from jupyterlab-server<3,>=2.27.1->jupyterlab==4.2.5->myocr) (0.9.25)\n",
      "Requirement already satisfied: jsonschema>=4.18.0 in /home/wasit/miniconda3/envs/myocr/lib/python3.10/site-packages (from jupyterlab-server<3,>=2.27.1->jupyterlab==4.2.5->myocr) (4.23.0)\n",
      "Requirement already satisfied: requests>=2.31 in /home/wasit/miniconda3/envs/myocr/lib/python3.10/site-packages (from jupyterlab-server<3,>=2.27.1->jupyterlab==4.2.5->myocr) (2.32.3)\n",
      "Requirement already satisfied: six>=1.5 in /home/wasit/miniconda3/envs/myocr/lib/python3.10/site-packages (from python-dateutil>=2.7->matplotlib==3.9.2->myocr) (1.16.0)\n",
      "Requirement already satisfied: mpmath<1.4,>=1.1.0 in /home/wasit/miniconda3/envs/myocr/lib/python3.10/site-packages (from sympy->torch==2.4.1+cpu->myocr) (1.3.0)\n",
      "Requirement already satisfied: exceptiongroup>=1.0.2 in /home/wasit/miniconda3/envs/myocr/lib/python3.10/site-packages (from anyio->httpx>=0.25.0->jupyterlab==4.2.5->myocr) (1.2.2)\n",
      "Requirement already satisfied: argon2-cffi-bindings in /home/wasit/miniconda3/envs/myocr/lib/python3.10/site-packages (from argon2-cffi>=21.1->jupyter-server<3,>=2.4.0->jupyterlab==4.2.5->myocr) (21.2.0)\n",
      "Requirement already satisfied: decorator in /home/wasit/miniconda3/envs/myocr/lib/python3.10/site-packages (from ipython>=7.23.1->ipykernel>=6.5.0->jupyterlab==4.2.5->myocr) (5.1.1)\n",
      "Requirement already satisfied: jedi>=0.16 in /home/wasit/miniconda3/envs/myocr/lib/python3.10/site-packages (from ipython>=7.23.1->ipykernel>=6.5.0->jupyterlab==4.2.5->myocr) (0.19.1)\n",
      "Requirement already satisfied: prompt-toolkit<3.1.0,>=3.0.41 in /home/wasit/miniconda3/envs/myocr/lib/python3.10/site-packages (from ipython>=7.23.1->ipykernel>=6.5.0->jupyterlab==4.2.5->myocr) (3.0.48)\n",
      "Requirement already satisfied: pygments>=2.4.0 in /home/wasit/miniconda3/envs/myocr/lib/python3.10/site-packages (from ipython>=7.23.1->ipykernel>=6.5.0->jupyterlab==4.2.5->myocr) (2.18.0)\n",
      "Requirement already satisfied: stack-data in /home/wasit/miniconda3/envs/myocr/lib/python3.10/site-packages (from ipython>=7.23.1->ipykernel>=6.5.0->jupyterlab==4.2.5->myocr) (0.6.3)\n",
      "Requirement already satisfied: pexpect>4.3 in /home/wasit/miniconda3/envs/myocr/lib/python3.10/site-packages (from ipython>=7.23.1->ipykernel>=6.5.0->jupyterlab==4.2.5->myocr) (4.9.0)\n",
      "Requirement already satisfied: attrs>=22.2.0 in /home/wasit/miniconda3/envs/myocr/lib/python3.10/site-packages (from jsonschema>=4.18.0->jupyterlab-server<3,>=2.27.1->jupyterlab==4.2.5->myocr) (24.2.0)\n",
      "Requirement already satisfied: jsonschema-specifications>=2023.03.6 in /home/wasit/miniconda3/envs/myocr/lib/python3.10/site-packages (from jsonschema>=4.18.0->jupyterlab-server<3,>=2.27.1->jupyterlab==4.2.5->myocr) (2024.10.1)\n",
      "Requirement already satisfied: referencing>=0.28.4 in /home/wasit/miniconda3/envs/myocr/lib/python3.10/site-packages (from jsonschema>=4.18.0->jupyterlab-server<3,>=2.27.1->jupyterlab==4.2.5->myocr) (0.35.1)\n",
      "Requirement already satisfied: rpds-py>=0.7.1 in /home/wasit/miniconda3/envs/myocr/lib/python3.10/site-packages (from jsonschema>=4.18.0->jupyterlab-server<3,>=2.27.1->jupyterlab==4.2.5->myocr) (0.20.0)\n",
      "Requirement already satisfied: python-json-logger>=2.0.4 in /home/wasit/miniconda3/envs/myocr/lib/python3.10/site-packages (from jupyter-events>=0.9.0->jupyter-server<3,>=2.4.0->jupyterlab==4.2.5->myocr) (2.0.7)\n",
      "Requirement already satisfied: pyyaml>=5.3 in /home/wasit/miniconda3/envs/myocr/lib/python3.10/site-packages (from jupyter-events>=0.9.0->jupyter-server<3,>=2.4.0->jupyterlab==4.2.5->myocr) (6.0.2)\n",
      "Requirement already satisfied: rfc3339-validator in /home/wasit/miniconda3/envs/myocr/lib/python3.10/site-packages (from jupyter-events>=0.9.0->jupyter-server<3,>=2.4.0->jupyterlab==4.2.5->myocr) (0.1.4)\n",
      "Requirement already satisfied: rfc3986-validator>=0.1.1 in /home/wasit/miniconda3/envs/myocr/lib/python3.10/site-packages (from jupyter-events>=0.9.0->jupyter-server<3,>=2.4.0->jupyterlab==4.2.5->myocr) (0.1.1)\n",
      "Requirement already satisfied: beautifulsoup4 in /home/wasit/miniconda3/envs/myocr/lib/python3.10/site-packages (from nbconvert>=6.4.4->jupyter-server<3,>=2.4.0->jupyterlab==4.2.5->myocr) (4.12.3)\n",
      "Requirement already satisfied: bleach!=5.0.0 in /home/wasit/miniconda3/envs/myocr/lib/python3.10/site-packages (from nbconvert>=6.4.4->jupyter-server<3,>=2.4.0->jupyterlab==4.2.5->myocr) (6.1.0)\n",
      "Requirement already satisfied: defusedxml in /home/wasit/miniconda3/envs/myocr/lib/python3.10/site-packages (from nbconvert>=6.4.4->jupyter-server<3,>=2.4.0->jupyterlab==4.2.5->myocr) (0.7.1)\n",
      "Requirement already satisfied: jupyterlab-pygments in /home/wasit/miniconda3/envs/myocr/lib/python3.10/site-packages (from nbconvert>=6.4.4->jupyter-server<3,>=2.4.0->jupyterlab==4.2.5->myocr) (0.3.0)\n",
      "Requirement already satisfied: mistune<4,>=2.0.3 in /home/wasit/miniconda3/envs/myocr/lib/python3.10/site-packages (from nbconvert>=6.4.4->jupyter-server<3,>=2.4.0->jupyterlab==4.2.5->myocr) (3.0.2)\n",
      "Requirement already satisfied: nbclient>=0.5.0 in /home/wasit/miniconda3/envs/myocr/lib/python3.10/site-packages (from nbconvert>=6.4.4->jupyter-server<3,>=2.4.0->jupyterlab==4.2.5->myocr) (0.10.0)\n",
      "Requirement already satisfied: pandocfilters>=1.4.1 in /home/wasit/miniconda3/envs/myocr/lib/python3.10/site-packages (from nbconvert>=6.4.4->jupyter-server<3,>=2.4.0->jupyterlab==4.2.5->myocr) (1.5.1)\n",
      "Requirement already satisfied: tinycss2 in /home/wasit/miniconda3/envs/myocr/lib/python3.10/site-packages (from nbconvert>=6.4.4->jupyter-server<3,>=2.4.0->jupyterlab==4.2.5->myocr) (1.3.0)\n",
      "Requirement already satisfied: fastjsonschema>=2.15 in /home/wasit/miniconda3/envs/myocr/lib/python3.10/site-packages (from nbformat>=5.3.0->jupyter-server<3,>=2.4.0->jupyterlab==4.2.5->myocr) (2.20.0)\n",
      "Requirement already satisfied: charset-normalizer<4,>=2 in /home/wasit/miniconda3/envs/myocr/lib/python3.10/site-packages (from requests>=2.31->jupyterlab-server<3,>=2.27.1->jupyterlab==4.2.5->myocr) (3.4.0)\n",
      "Requirement already satisfied: urllib3<3,>=1.21.1 in /home/wasit/miniconda3/envs/myocr/lib/python3.10/site-packages (from requests>=2.31->jupyterlab-server<3,>=2.27.1->jupyterlab==4.2.5->myocr) (2.2.3)\n",
      "Requirement already satisfied: ptyprocess in /home/wasit/miniconda3/envs/myocr/lib/python3.10/site-packages (from terminado>=0.8.3->jupyter-server<3,>=2.4.0->jupyterlab==4.2.5->myocr) (0.7.0)\n",
      "Requirement already satisfied: webencodings in /home/wasit/miniconda3/envs/myocr/lib/python3.10/site-packages (from bleach!=5.0.0->nbconvert>=6.4.4->jupyter-server<3,>=2.4.0->jupyterlab==4.2.5->myocr) (0.5.1)\n",
      "Requirement already satisfied: parso<0.9.0,>=0.8.3 in /home/wasit/miniconda3/envs/myocr/lib/python3.10/site-packages (from jedi>=0.16->ipython>=7.23.1->ipykernel>=6.5.0->jupyterlab==4.2.5->myocr) (0.8.4)\n",
      "Requirement already satisfied: fqdn in /home/wasit/miniconda3/envs/myocr/lib/python3.10/site-packages (from jsonschema[format-nongpl]>=4.18.0->jupyter-events>=0.9.0->jupyter-server<3,>=2.4.0->jupyterlab==4.2.5->myocr) (1.5.1)\n",
      "Requirement already satisfied: isoduration in /home/wasit/miniconda3/envs/myocr/lib/python3.10/site-packages (from jsonschema[format-nongpl]>=4.18.0->jupyter-events>=0.9.0->jupyter-server<3,>=2.4.0->jupyterlab==4.2.5->myocr) (20.11.0)\n",
      "Requirement already satisfied: jsonpointer>1.13 in /home/wasit/miniconda3/envs/myocr/lib/python3.10/site-packages (from jsonschema[format-nongpl]>=4.18.0->jupyter-events>=0.9.0->jupyter-server<3,>=2.4.0->jupyterlab==4.2.5->myocr) (3.0.0)\n",
      "Requirement already satisfied: uri-template in /home/wasit/miniconda3/envs/myocr/lib/python3.10/site-packages (from jsonschema[format-nongpl]>=4.18.0->jupyter-events>=0.9.0->jupyter-server<3,>=2.4.0->jupyterlab==4.2.5->myocr) (1.3.0)\n",
      "Requirement already satisfied: webcolors>=24.6.0 in /home/wasit/miniconda3/envs/myocr/lib/python3.10/site-packages (from jsonschema[format-nongpl]>=4.18.0->jupyter-events>=0.9.0->jupyter-server<3,>=2.4.0->jupyterlab==4.2.5->myocr) (24.8.0)\n",
      "Requirement already satisfied: wcwidth in /home/wasit/miniconda3/envs/myocr/lib/python3.10/site-packages (from prompt-toolkit<3.1.0,>=3.0.41->ipython>=7.23.1->ipykernel>=6.5.0->jupyterlab==4.2.5->myocr) (0.2.13)\n",
      "Requirement already satisfied: cffi>=1.0.1 in /home/wasit/miniconda3/envs/myocr/lib/python3.10/site-packages (from argon2-cffi-bindings->argon2-cffi>=21.1->jupyter-server<3,>=2.4.0->jupyterlab==4.2.5->myocr) (1.17.1)\n",
      "Requirement already satisfied: soupsieve>1.2 in /home/wasit/miniconda3/envs/myocr/lib/python3.10/site-packages (from beautifulsoup4->nbconvert>=6.4.4->jupyter-server<3,>=2.4.0->jupyterlab==4.2.5->myocr) (2.6)\n",
      "Requirement already satisfied: executing>=1.2.0 in /home/wasit/miniconda3/envs/myocr/lib/python3.10/site-packages (from stack-data->ipython>=7.23.1->ipykernel>=6.5.0->jupyterlab==4.2.5->myocr) (2.1.0)\n",
      "Requirement already satisfied: asttokens>=2.1.0 in /home/wasit/miniconda3/envs/myocr/lib/python3.10/site-packages (from stack-data->ipython>=7.23.1->ipykernel>=6.5.0->jupyterlab==4.2.5->myocr) (2.4.1)\n",
      "Requirement already satisfied: pure-eval in /home/wasit/miniconda3/envs/myocr/lib/python3.10/site-packages (from stack-data->ipython>=7.23.1->ipykernel>=6.5.0->jupyterlab==4.2.5->myocr) (0.2.3)\n",
      "Requirement already satisfied: pycparser in /home/wasit/miniconda3/envs/myocr/lib/python3.10/site-packages (from cffi>=1.0.1->argon2-cffi-bindings->argon2-cffi>=21.1->jupyter-server<3,>=2.4.0->jupyterlab==4.2.5->myocr) (2.22)\n",
      "Requirement already satisfied: arrow>=0.15.0 in /home/wasit/miniconda3/envs/myocr/lib/python3.10/site-packages (from isoduration->jsonschema[format-nongpl]>=4.18.0->jupyter-events>=0.9.0->jupyter-server<3,>=2.4.0->jupyterlab==4.2.5->myocr) (1.3.0)\n",
      "Requirement already satisfied: types-python-dateutil>=2.8.10 in /home/wasit/miniconda3/envs/myocr/lib/python3.10/site-packages (from arrow>=0.15.0->isoduration->jsonschema[format-nongpl]>=4.18.0->jupyter-events>=0.9.0->jupyter-server<3,>=2.4.0->jupyterlab==4.2.5->myocr) (2.9.0.20241003)\n",
      "Note: you may need to restart the kernel to use updated packages.\n"
     ]
    }
   ],
   "source": [
    "pip install myocr"
   ]
  },
  {
   "cell_type": "code",
   "execution_count": null,
   "id": "0a63c9db-0098-4914-bbaa-9e2c8c922850",
   "metadata": {},
   "outputs": [],
   "source": [
    "pip install pdf2image pillow"
   ]
  },
  {
   "cell_type": "code",
   "execution_count": null,
   "id": "acb10d34-cc9d-4064-9ab0-57cb62eb64a8",
   "metadata": {},
   "outputs": [],
   "source": [
    "from myocr import Project\n",
    "debug=False\n",
    "project_name ='demo_project'\n",
    "pdf_path = \"demo_input.pdf\"\n",
    "my_class={\n",
    "    0:'miss',\n",
    "    1:'check',\n",
    "    2:'cancel'\n",
    "}\n",
    "p=Project(project_name,my_class)\n",
    "\n"
   ]
  },
  {
   "cell_type": "markdown",
   "id": "89c6768c-da96-44ab-83dc-e5d4019ea899",
   "metadata": {},
   "source": [
    "# 1.Convert PDF to images"
   ]
  },
  {
   "cell_type": "code",
   "execution_count": null,
   "id": "2bf90ce9-36fc-4a20-8b5f-a744ca4aaba4",
   "metadata": {},
   "outputs": [],
   "source": [
    "from pdf2image import convert_from_path\n",
    "import os\n",
    "\n",
    "def pdf_to_images(pdf_path, output_folder, dpi=300):\n",
    "    \"\"\"\n",
    "    Convert each page of a PDF into separate image files.\n",
    "\n",
    "    Parameters:\n",
    "    - pdf_path: str, path to the input PDF file.\n",
    "    - output_folder: str, directory where the images should be saved.\n",
    "    - dpi: int, optional, DPI setting for the output images.\n",
    "\n",
    "    Returns:\n",
    "    - A list of paths to the saved image files.\n",
    "    \"\"\"\n",
    "    # Ensure the output directory exists\n",
    "    os.makedirs(output_folder, exist_ok=True)\n",
    "\n",
    "    # Convert PDF pages to images\n",
    "    images = convert_from_path(pdf_path, dpi=dpi)\n",
    "\n",
    "    # Save each page as an image\n",
    "    image_paths = []\n",
    "    for i, image in enumerate(images):\n",
    "        image_path = os.path.join(output_folder, f\"page{i + 1:03d}.png\")\n",
    "        image.save(image_path, \"PNG\")\n",
    "        image_paths.append(image_path)\n",
    "    \n",
    "    return image_paths\n",
    "\n",
    "# Example Usage\n",
    "# pdf_path = \"dsi310_2024_raw.pdf\"\n",
    "output_folder = p.landing_dir\n",
    "image_paths = pdf_to_images(pdf_path, output_folder)\n",
    "\n",
    "# Print the saved image paths\n",
    "for img_path in image_paths:\n",
    "    print(f\"Saved: {img_path}\")\n"
   ]
  },
  {
   "cell_type": "markdown",
   "id": "66e2888f-f22d-4336-a3b3-4d9933816079",
   "metadata": {},
   "source": [
    "# 2.Registaer all images"
   ]
  },
  {
   "cell_type": "code",
   "execution_count": null,
   "id": "83465161-2bb0-4209-b22c-825ca46e0549",
   "metadata": {},
   "outputs": [],
   "source": [
    "ref_path='ref.png'\n",
    "reference_image = p.set_reference_image('ref.png')\n",
    "p.register_image(debug)"
   ]
  },
  {
   "cell_type": "markdown",
   "id": "05402c08-81be-49f5-a5ad-dd2b82876228",
   "metadata": {},
   "source": [
    "# 3.Create BBox template"
   ]
  },
  {
   "cell_type": "code",
   "execution_count": null,
   "id": "fea5b150-bb94-4daf-820b-04fd600c7b73",
   "metadata": {},
   "outputs": [],
   "source": [
    "# Define the bounding box dimensions\n",
    "box_width = 33.5*2  # approximate width of each choice box\n",
    "box_height = 20.8*2  # approximate height of each question row\n",
    "\n",
    "# Coordinates for the left column (questions 1-30)\n",
    "left_column_start_x = 145*2\n",
    "left_column_start_y = 156*2\n",
    "\n",
    "# Coordinates for the right column (questions 31-60)\n",
    "right_column_start_x = 386*2\n",
    "right_column_start_y = 156*2\n",
    "\n",
    "all_bbox=[]   \n",
    "    \n",
    "# Draw bounding boxes for the left column (questions 1-30)\n",
    "for i in range(30):\n",
    "    for c, choice in enumerate(['a', 'b', 'c', 'd']):\n",
    "        q=i+1\n",
    "        x = left_column_start_x + c * box_width  # Each choice moves right by box_width\n",
    "        y = left_column_start_y + i * box_height  # Each question moves down by box_height\n",
    "        d={\n",
    "            'q':q,\n",
    "            'c':c,\n",
    "            'x':x,\n",
    "            'y':y,\n",
    "            'box_width': box_width, \n",
    "            'box_height': box_height\n",
    "        }\n",
    "        all_bbox.append(d)\n",
    "        # print(d)\n",
    "        # save_cropped_bbox(image,sheet_name, q + 1, choice, x, y, box_width, box_height)\n",
    "\n",
    "# Draw bounding boxes for the right column (questions 31-60)\n",
    "for i in range(30):\n",
    "    for c, choice in enumerate(['a', 'b', 'c', 'd']):\n",
    "        q=i+31\n",
    "        x = right_column_start_x + c * box_width  # Each choice moves right by box_width\n",
    "        y = right_column_start_y + i* box_height  # Each question moves down by box_height\n",
    "        d={\n",
    "            'q':q,\n",
    "            'c':c,\n",
    "            'x':x,\n",
    "            'y':y,\n",
    "            'box_width': box_width, \n",
    "            'box_height': box_height\n",
    "        }\n",
    "        all_bbox.append(d)\n",
    "        # print(d)\n",
    "        # save_cropped_bbox(image,sheet_name, q + 1, choice, x, y, box_width, box_height)\n",
    "    \n",
    "p.draw_all_bbox(reference_image,all_bbox)"
   ]
  },
  {
   "cell_type": "code",
   "execution_count": null,
   "id": "d473d04a-767f-4041-b55d-74ca54c50ef8",
   "metadata": {},
   "outputs": [],
   "source": [
    "p.extract_bb(all_bbox, debug)"
   ]
  },
  {
   "cell_type": "markdown",
   "id": "c0cee831-3482-4df9-890f-00851388ea5a",
   "metadata": {},
   "source": [
    "# 4.Forword"
   ]
  },
  {
   "cell_type": "code",
   "execution_count": null,
   "id": "8b9e5e05-c16a-4c7f-af0c-9cdddfbc8d85",
   "metadata": {},
   "outputs": [],
   "source": [
    "import torchvision.transforms as transforms\n",
    "from myocr import ImageClassifier\n",
    "from pathlib import Path\n",
    "import pandas as pd\n",
    "\n",
    "num_classes=len(p.my_class)\n",
    "\n",
    "input_image_size = (32, 32)\n",
    "transform = transforms.Compose([\n",
    "    transforms.Resize(input_image_size),\n",
    "    transforms.ToTensor(),\n",
    "    transforms.Normalize((0.5, 0.5, 0.5), (0.5, 0.5, 0.5))\n",
    "])\n",
    "model_name='lenet'\n",
    "classifier = ImageClassifier(model_name, num_classes, input_image_size, transform)\n",
    "\n",
    "pre_train = '_lenet_13200_100.pth'\n",
    "if Path(pre_train).exists():\n",
    "    classifier.load(pre_train)\n",
    "\n",
    "def as_series(func):\n",
    "    def wrapper(*args, **kwargs):\n",
    "        result = func(*args, **kwargs)\n",
    "        return pd.Series(result)\n",
    "    return wrapper\n",
    "    \n",
    "@as_series\n",
    "def forward(image):\n",
    "    class_id, confidence = classifier.predict(image)\n",
    "    return class_id, confidence\n",
    "\n",
    "# Apply the function to each row and create 'y1' and 'y2' columns\n",
    "df = p.get_input_df()\n",
    "df[['predict', 'confidence']] = df.apply(lambda row: forward(row['PIL_image']), axis=1)\n",
    "df.info()\n",
    "df.head()"
   ]
  },
  {
   "cell_type": "code",
   "execution_count": null,
   "id": "cead158a-8006-46a2-af0e-754aa0bf93f9",
   "metadata": {},
   "outputs": [],
   "source": [
    "df2=df[['sheet','question','choice','predict','confidence']].copy()\n",
    "df2=df2.astype({'question':'int64'})\n",
    "df2.info()\n",
    "df2.head()"
   ]
  },
  {
   "cell_type": "code",
   "execution_count": null,
   "id": "8e4aba04-5523-4c6b-b1d9-9071bfe341a2",
   "metadata": {},
   "outputs": [],
   "source": [
    "# df2[(df2['sheet']=='page047') & (df2['question']==52) & (df2['choice']==0)].iloc[0,-2]"
   ]
  },
  {
   "cell_type": "markdown",
   "id": "19ca179d-9f10-422b-a0f1-c56e7f3990e0",
   "metadata": {},
   "source": [
    "# 5.Render Result"
   ]
  },
  {
   "cell_type": "code",
   "execution_count": null,
   "id": "1ece2d8f-37b8-491f-a201-b77b5c1b44b1",
   "metadata": {
    "scrolled": true
   },
   "outputs": [],
   "source": [
    "# all_bbox"
   ]
  },
  {
   "cell_type": "code",
   "execution_count": null,
   "id": "7ea211c2-b208-455e-80db-871774a297a5",
   "metadata": {
    "scrolled": true
   },
   "outputs": [],
   "source": [
    "from PIL import Image\n",
    "import matplotlib.pyplot as plt\n",
    "import matplotlib.patches as patches\n",
    "\n",
    "print('Rendering Results:')\n",
    "image_files = p.find_all_images(p.staging_dir)\n",
    "result_dir = (p.project_dir/f'_result').resolve()\n",
    "result_dir.mkdir(parents=True, exist_ok=True)\n",
    "\n",
    "for i,image in enumerate(image_files):\n",
    "    sheet_all_bbox=[]\n",
    "    image_path = Path(p.staging_dir)/image\n",
    "    sheet_name = image.split('.')[0] \n",
    "    print(\"image_path: \",image_path)\n",
    "    print(\"sheet_name: \",sheet_name)\n",
    "    image = Image.open(image_path)\n",
    "\n",
    "    fig, ax = plt.subplots(figsize=(10, 15))\n",
    "    for i in all_bbox:\n",
    "        # self.draw_bbox(ax, **i)\n",
    "        q, c, x, y, box_width, box_height = i['q'], i['c'], i['x'], i['y'], i['box_width'], i['box_height']\n",
    "        is_check = df2[(df2['sheet']==sheet_name) & (df2['question']==q) & (df2['choice']==str(c))].iloc[0,-2]==1\n",
    "        if is_check:\n",
    "        # label = f'{q},{c}'\n",
    "            rect = patches.Rectangle((x, y), box_width, box_height, linewidth=1, edgecolor='r', facecolor='none')\n",
    "            ax.add_patch(rect)\n",
    "        # ax.text(x + box_width / 2, y + box_height / 2, label, fontsize=8, color='blue', ha='center', va='center')\n",
    "    # Display the image\n",
    "    ax.imshow(image)\n",
    "    # Show the result with bounding boxes\n",
    "    plt.axis('off')  # Hide the axes for better visualization\n",
    "    # plt.show()\n",
    "    \n",
    "    plt.savefig(result_dir/f'{sheet_name}.png', format='png', dpi=80, bbox_inches='tight')\n",
    "plt.close()"
   ]
  },
  {
   "cell_type": "markdown",
   "id": "d58db196-b6a7-4959-b9ba-5e6ab76a063e",
   "metadata": {},
   "source": [
    "# 6.Export File"
   ]
  },
  {
   "cell_type": "code",
   "execution_count": null,
   "id": "f34d4fe6-432f-4db9-8787-d76ccedb1f8b",
   "metadata": {},
   "outputs": [],
   "source": [
    "def get_ans(c1,c2,c3,c4):\n",
    "    a=(c1==1)\n",
    "    b=(c2==1)\n",
    "    c=(c3==1)\n",
    "    d=(c4==1)\n",
    "    if (a) and (not b) and (not c) and (not d):\n",
    "        return 'a'\n",
    "    elif (not a) and (b) and (not c) and (not d):\n",
    "        return 'b'\n",
    "    elif (not a) and (not b) and (c) and (not d):\n",
    "        return 'c'\n",
    "    elif (not a) and (not b) and (not c) and (d):\n",
    "        return 'd'\n",
    "    else:\n",
    "        return ''\n",
    "        \n",
    "df_pivot = pd.pivot_table(\n",
    "    df2.reset_index(),\n",
    "    index=['sheet', 'question'],\n",
    "    columns=['choice'],\n",
    "    aggfunc={'predict': \"mean\",'confidence': \"mean\"})\n",
    "# df_pivot.info()\n",
    "# df_pivot\n",
    "\n",
    "# Flattening multi-level columns in df_pivot\n",
    "df_pivot.columns = ['_'.join(col).strip() for col in df_pivot.columns.values]\n",
    "df3 = df_pivot.reset_index()\n",
    "\n",
    "# df3.info()\n",
    "# df3\n",
    "\n",
    "df4=df3.copy()\n",
    "df4['ans']=df4.apply(lambda row: get_ans(row['predict_0'],row['predict_1'],row['predict_2'],row['predict_3']), axis=1)\n",
    "df4.info()\n",
    "df4.to_csv( result_dir/(f'result_{p.project_name}.csv'))\n",
    "df4"
   ]
  },
  {
   "cell_type": "markdown",
   "id": "a7749492-777b-4e6b-8850-d501bc72fc41",
   "metadata": {},
   "source": [
    "# Retrain the model\n",
    "## Create Label Tasks"
   ]
  },
  {
   "cell_type": "code",
   "execution_count": null,
   "id": "9eb003e8-6a4e-4710-a41a-91dd7666d297",
   "metadata": {},
   "outputs": [],
   "source": [
    "p.connect_label_studio()\n",
    "p.create_task(forward)"
   ]
  },
  {
   "cell_type": "markdown",
   "id": "0b20ff2f-33ff-4f6b-9278-274c4a6f0b13",
   "metadata": {},
   "source": [
    "## Train"
   ]
  },
  {
   "cell_type": "code",
   "execution_count": null,
   "id": "79eb2400-dccc-4412-944d-5560a9ab4b4b",
   "metadata": {},
   "outputs": [],
   "source": [
    "df_complete_task=p.lb.fetch_labels_from_label_studio()\n",
    "# df_complete_task['image_file']=df_complete_task['image_url'].apply(lambda x: x.replace(lb.IMAGE_SERVER_URL+project_name+'/',''))\n",
    "df_complete_task.info()\n",
    "df_complete_task.head()"
   ]
  },
  {
   "cell_type": "code",
   "execution_count": null,
   "id": "01d584db-75f3-49b3-92f6-24e55e5a5986",
   "metadata": {},
   "outputs": [],
   "source": [
    "import json\n",
    "df_complete_task[[ 'class_name']].value_counts().plot(kind='bar')\n",
    "columns=['image_file','class_id']\n",
    "annotation = {\n",
    "    'annotations':df_complete_task[columns].to_dict('records'),\n",
    "    'class_names':my_class\n",
    "}\n",
    "with open('annotations.json', 'w') as json_file:\n",
    "    json.dump(annotation, json_file, indent=4)\n",
    "\n",
    "print(\"Annotations saved to 'annotations.json'.\")"
   ]
  },
  {
   "cell_type": "code",
   "execution_count": null,
   "id": "64d4ab24-7e5c-4851-ac29-bb4dd0071d56",
   "metadata": {},
   "outputs": [],
   "source": [
    "from myocr import load_data\n",
    "# Example Usage\n",
    "annotations_file = 'annotations.json'  # Path to the JSON file with annotations\n",
    "img_dir = p.cropped_dir  # Directory where the images are stored\n",
    "\n",
    "\n",
    "augmentations = transforms.Compose([\n",
    "    transforms.RandomHorizontalFlip(),\n",
    "    transforms.RandomRotation(10),\n",
    "    transforms.ColorJitter(brightness=0.2, contrast=0.2, saturation=0.2, hue=0.1)\n",
    "])\n",
    "\n",
    "# Load the data with a custom train-test split, random seed, and data augmentation\n",
    "train_loader, test_loader = load_data(annotations_file, img_dir, transform, augmentations, train_ratio=0.8, random_seed=42, batch_size=32)\n",
    "\n",
    "# Train the model\n",
    "classifier.train(train_loader, epochs=100)\n",
    "\n",
    "# Evaluate the model\n",
    "classifier.evaluate(test_loader)\n",
    "\n",
    "# Save the model\n",
    "classifier.save('lenet_retrained.pth')"
   ]
  },
  {
   "cell_type": "code",
   "execution_count": null,
   "id": "8f764a0d-7e40-43cd-9b59-52941eb741d1",
   "metadata": {},
   "outputs": [],
   "source": []
  }
 ],
 "metadata": {
  "kernelspec": {
   "display_name": "Python 3 (ipykernel)",
   "language": "python",
   "name": "python3"
  },
  "language_info": {
   "codemirror_mode": {
    "name": "ipython",
    "version": 3
   },
   "file_extension": ".py",
   "mimetype": "text/x-python",
   "name": "python",
   "nbconvert_exporter": "python",
   "pygments_lexer": "ipython3",
   "version": "3.10.15"
  }
 },
 "nbformat": 4,
 "nbformat_minor": 5
}
